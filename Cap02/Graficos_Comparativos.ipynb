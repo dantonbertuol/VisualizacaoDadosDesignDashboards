{
 "cells": [
  {
   "cell_type": "markdown",
   "metadata": {
    "papermill": {
     "duration": 0.028236,
     "end_time": "2020-08-15T05:42:33.272312",
     "exception": false,
     "start_time": "2020-08-15T05:42:33.244076",
     "status": "completed"
    },
    "tags": []
   },
   "source": [
    "## Pacotes Python Para Manipulação de Dados e Visualização"
   ]
  },
  {
   "cell_type": "code",
   "execution_count": null,
   "metadata": {
    "execution": {
     "iopub.execute_input": "2020-08-15T05:42:33.335573Z",
     "iopub.status.busy": "2020-08-15T05:42:33.334762Z",
     "iopub.status.idle": "2020-08-15T05:42:35.988244Z",
     "shell.execute_reply": "2020-08-15T05:42:35.987118Z"
    },
    "papermill": {
     "duration": 2.687594,
     "end_time": "2020-08-15T05:42:35.988384",
     "exception": false,
     "start_time": "2020-08-15T05:42:33.300790",
     "status": "completed"
    },
    "tags": []
   },
   "outputs": [],
   "source": [
    "# Manipulação de Dados\n",
    "import numpy as np\n",
    "import pandas as pd\n",
    "\n",
    "# Plotly\n",
    "import plotly.express as px\n",
    "import plotly.graph_objects as go\n",
    "import plotly.figure_factory as ff\n",
    "from plotly.colors import n_colors\n",
    "from plotly.subplots import make_subplots"
   ]
  },
  {
   "cell_type": "markdown",
   "metadata": {
    "papermill": {
     "duration": 0.028051,
     "end_time": "2020-08-15T05:42:36.045004",
     "exception": false,
     "start_time": "2020-08-15T05:42:36.016953",
     "status": "completed"
    },
    "tags": []
   },
   "source": [
    "## Carregando os Dados"
   ]
  },
  {
   "cell_type": "code",
   "execution_count": null,
   "metadata": {
    "_kg_hide-input": true,
    "execution": {
     "iopub.execute_input": "2020-08-15T05:42:36.114224Z",
     "iopub.status.busy": "2020-08-15T05:42:36.113535Z",
     "iopub.status.idle": "2020-08-15T05:42:51.918074Z",
     "shell.execute_reply": "2020-08-15T05:42:51.917351Z"
    },
    "papermill": {
     "duration": 15.844891,
     "end_time": "2020-08-15T05:42:51.918192",
     "exception": false,
     "start_time": "2020-08-15T05:42:36.073301",
     "status": "completed"
    },
    "tags": []
   },
   "outputs": [],
   "source": [
    "# Carrega os dados\n",
    "titanic = pd.read_csv('dados/titanic-train.csv')"
   ]
  },
  {
   "cell_type": "markdown",
   "metadata": {},
   "source": [
    "### Bubble Plot"
   ]
  },
  {
   "cell_type": "markdown",
   "metadata": {},
   "source": [
    "**Objetivo** :  Exibe representação quantitativa destacando a categoria mais ocorrida com o tamanho da bolha.\n",
    "\n",
    "Quantas pessoas viajaram em cada classe de passageiros do Titanic?"
   ]
  },
  {
   "cell_type": "code",
   "execution_count": null,
   "metadata": {},
   "outputs": [],
   "source": [
    "# Prepara os dados\n",
    "pclass = titanic['Pclass'].value_counts().to_frame().reset_index().rename(columns = {'index':'Pclass','Pclass':'Count'})"
   ]
  },
  {
   "cell_type": "code",
   "execution_count": null,
   "metadata": {},
   "outputs": [],
   "source": [
    "# Figura\n",
    "fig = go.Figure(data = [go.Scatter(x = pclass['Pclass'], \n",
    "                                   y = pclass['Count'], \n",
    "                                   mode = 'markers', \n",
    "                                   marker = dict(size = pclass['Count']*0.3))])\n",
    "\n",
    "# Layout\n",
    "fig.update_layout(title = 'Viajantes Por Classe do Titanic',\n",
    "                  xaxis_title = \"Classe\",\n",
    "                  yaxis_title = \"Número de Pessoas\")\n",
    "\n",
    "# Mostra o gráfico\n",
    "fig.show()"
   ]
  },
  {
   "cell_type": "markdown",
   "metadata": {},
   "source": [
    "### Bubble Plot Com Gradiente de Cor"
   ]
  },
  {
   "cell_type": "markdown",
   "metadata": {},
   "source": [
    "**Objetivo** :  Exibe uma representação quantitativa destacando a categoria mais ocorrida com o gradiente de cor da bolha.\n",
    "\n",
    "Quantas pessoas viajaram no Titanic por faixa etária? "
   ]
  },
  {
   "cell_type": "code",
   "execution_count": null,
   "metadata": {},
   "outputs": [],
   "source": [
    "# Prepara os dados\n",
    "titanic = titanic.dropna()\n",
    "\n",
    "titanic['age_category'] = np.where((titanic['Age'] < 19), \"Abaixo de 19 Anos\",\n",
    "                                   np.where((titanic['Age'] > 18) & (titanic['Age'] <= 30), \"19-30 Anos\",\n",
    "                                            np.where((titanic['Age'] > 30) & (titanic['Age'] <= 50), \"31-50 Anos\",\n",
    "                                                     np.where(titanic['Age'] > 50, \"Acima de 50 Anos\", \"NULL\"))))\n",
    "\n",
    "age = titanic['age_category'].value_counts().to_frame().reset_index().rename(columns = {'index':'age_category','age_category':'Count'})"
   ]
  },
  {
   "cell_type": "code",
   "execution_count": null,
   "metadata": {},
   "outputs": [],
   "source": [
    "# Figura\n",
    "fig = go.Figure(data = [go.Scatter(x = age['age_category'], \n",
    "                                   y = age['Count'],\n",
    "                                   mode = 'markers',\n",
    "                                   marker = dict(color = age['Count'],\n",
    "                                                 size = age['Count'],\n",
    "                                                 showscale = True))])\n",
    "\n",
    "# Layout\n",
    "fig.update_layout(title = 'Viajantes do Titanic Por Faixa Etária',\n",
    "                  xaxis_title = \"Faixa Etária\",\n",
    "                  yaxis_title = \"Número de Pessoas\")\n",
    "\n",
    "# Gráfico\n",
    "fig.show()"
   ]
  },
  {
   "cell_type": "markdown",
   "metadata": {},
   "source": [
    "## Waterfall"
   ]
  },
  {
   "cell_type": "markdown",
   "metadata": {},
   "source": [
    "**Objetivo** :  Exibir aumento e diminuição de contagens no gráfico em cascata\n",
    "\n",
    "Apresente um resumo dos casos de Covid nos meses de junho e julho nos Estados Unidos."
   ]
  },
  {
   "cell_type": "code",
   "execution_count": null,
   "metadata": {},
   "outputs": [],
   "source": [
    "# Carrega os dados\n",
    "covid = pd.read_csv('dados/novel-corona-virus-2019-dataset-covid_19_data.csv')"
   ]
  },
  {
   "cell_type": "code",
   "execution_count": null,
   "metadata": {},
   "outputs": [],
   "source": [
    "# Ajusta coluna de data\n",
    "covid['ObservationDate'] = pd.to_datetime(covid['ObservationDate'])\n",
    "covid['month'] = covid['ObservationDate'].dt.month_name()"
   ]
  },
  {
   "cell_type": "code",
   "execution_count": null,
   "metadata": {},
   "outputs": [],
   "source": [
    "# Prepara os dados\n",
    "us_confirmed_july = covid[(covid['Country/Region']=='US') & (covid['month']=='July')][['month','Confirmed']].groupby('month').sum().reset_index()['Confirmed']\n",
    "us_confirmed_june = covid[(covid['Country/Region']=='US') & (covid['month']=='June')][['month','Confirmed']].groupby('month').sum().reset_index()['Confirmed']\n",
    "us_recovered_july = covid[(covid['Country/Region']=='US') & (covid['month']=='July')][['month','Recovered']].groupby('month').sum().reset_index()['Recovered']\n",
    "us_recovered_june = covid[(covid['Country/Region']=='US') & (covid['month']=='June')][['month','Recovered']].groupby('month').sum().reset_index()['Recovered']\n",
    "us_death_july = covid[(covid['Country/Region']=='US') & (covid['month']=='July')][['month','Deaths']].groupby('month').sum().reset_index()['Deaths']\n",
    "us_death_june = covid[(covid['Country/Region']=='US') & (covid['month']=='June')][['month','Deaths']].groupby('month').sum().reset_index()['Deaths']\n"
   ]
  },
  {
   "cell_type": "code",
   "execution_count": null,
   "metadata": {},
   "outputs": [],
   "source": [
    "# Figura\n",
    "fig = go.Figure(go.Waterfall(name = \"Casos de Covid\", \n",
    "                             orientation = \"v\",\n",
    "                             measure = [\"relative\", \n",
    "                                        \"relative\", \n",
    "                                        \"total\", \n",
    "                                        \"relative\", \n",
    "                                        \"relative\", \n",
    "                                        \"total\"],\n",
    "                             x = [\"June Confirmed\", \n",
    "                                  \"July Confirmed\", \n",
    "                                  \"Total Confirmed\", \n",
    "                                  \"June Recoverd & Deaths\", \n",
    "                                  \"July Recovered & Deaths\", \n",
    "                                  \"Total Under Observation\"],\n",
    "                             y = [int(us_confirmed_june), \n",
    "                                  int(us_confirmed_july), \n",
    "                                  0,\n",
    "                                  -(int(us_death_june) + int(us_recovered_june)), \n",
    "                                  -int((us_death_july) + int(us_recovered_july)), \n",
    "                                  0],\n",
    "                             connector = {\"line\":{\"color\":\"rgb(63, 63, 63)\"}},))\n",
    "\n",
    "# Layout\n",
    "fig.update_layout(title = \"Casos de Covid em Junho e Julho nos EUA\", showlegend = True)\n",
    "\n",
    "# Gráfico\n",
    "fig.show()"
   ]
  },
  {
   "cell_type": "markdown",
   "metadata": {},
   "source": [
    "## Waterfall Múltiplo"
   ]
  },
  {
   "cell_type": "markdown",
   "metadata": {},
   "source": [
    "**Objetivo**: Exibir aumento e diminuição de contagens no gráfico em cascata\n",
    "\n",
    "Apresente o mesmo gráfico anterior para os EUA e Brasil na mesma área de plotagem."
   ]
  },
  {
   "cell_type": "code",
   "execution_count": null,
   "metadata": {},
   "outputs": [],
   "source": [
    "# Já temos os dados dos EUA, agora preparamos os dados do Brasil\n",
    "br_confirmed_july = covid[(covid['Country/Region']=='Brazil')&(covid['month']=='July')][['month','Confirmed']].groupby('month').sum().reset_index()['Confirmed']\n",
    "br_confirmed_june = covid[(covid['Country/Region']=='Brazil')&(covid['month']=='June')][['month','Confirmed']].groupby('month').sum().reset_index()['Confirmed']\n",
    "br_recovered_july = covid[(covid['Country/Region']=='Brazil')&(covid['month']=='July')][['month','Recovered']].groupby('month').sum().reset_index()['Recovered']\n",
    "br_recovered_june = covid[(covid['Country/Region']=='Brazil')&(covid['month']=='June')][['month','Recovered']].groupby('month').sum().reset_index()['Recovered']\n",
    "br_death_july = covid[(covid['Country/Region']=='Brazil')&(covid['month']=='July')][['month','Deaths']].groupby('month').sum().reset_index()['Deaths']\n",
    "br_death_june = covid[(covid['Country/Region']=='Brazil')&(covid['month']=='June')][['month','Deaths']].groupby('month').sum().reset_index()['Deaths']\n"
   ]
  },
  {
   "cell_type": "code",
   "execution_count": null,
   "metadata": {},
   "outputs": [],
   "source": [
    "# Figura\n",
    "fig = go.Figure()\n",
    "\n",
    "# Adiciona a camada com o waterfall dos EUA\n",
    "fig.add_trace(go.Waterfall(x = [[\"June\", \n",
    "                                 \"June\", \n",
    "                                 \"June\",\n",
    "                                 \"June\", \n",
    "                                 \"July\", \n",
    "                                 \"July\", \n",
    "                                 \"July\",\n",
    "                                 \"July\"],\n",
    "                                [\"June Confirmed\", \n",
    "                                 \"June Recovered\", \n",
    "                                 \"June Death\", \n",
    "                                 \"Total Observation\", \n",
    "                                 \"July Confirmed\", \n",
    "                                 \"July Recovered\", \n",
    "                                 \"July Death\", \n",
    "                                 \"Total Observation\"]],\n",
    "                           measure = [ \"relative\", \n",
    "                                      \"relative\", \n",
    "                                      \"relative\", \n",
    "                                      \"total\", \n",
    "                                      \"relative\", \n",
    "                                      \"relative\", \n",
    "                                      \"relative\", \n",
    "                                      \"total\"],\n",
    "                           y = [int(us_confirmed_june),\n",
    "                                -int(us_recovered_june),\n",
    "                                -int(us_death_june), \n",
    "                                None, \n",
    "                                int(us_confirmed_july), \n",
    "                                -int(us_recovered_july),\n",
    "                                -int(us_death_july), \n",
    "                                None],\n",
    "                           name = \"EUA\"))\n",
    "\n",
    "# Adiciona a camada com o waterfall do Brasil\n",
    "fig.add_trace(go.Waterfall(x = [[\"June\", \n",
    "                                 \"June\", \n",
    "                                 \"June\",\n",
    "                                 \"June\", \n",
    "                                 \"July\", \n",
    "                                 \"July\", \n",
    "                                 \"July\",\n",
    "                                 \"July\"],  \n",
    "                                [\"June Confirmed\", \n",
    "                                 \"June Recovered\", \n",
    "                                 \"June Death\", \n",
    "                                 \"Total Observation\", \n",
    "                                 \"July Confirmed\", \n",
    "                                 \"July Recovered\", \n",
    "                                 \"July Death\", \n",
    "                                 \"Total Observation\"]],\n",
    "                           measure = [\"relative\", \n",
    "                                      \"relative\", \n",
    "                                      \"relative\", \n",
    "                                      \"total\", \n",
    "                                      \"relative\", \n",
    "                                      \"relative\", \n",
    "                                      \"relative\", \n",
    "                                      \"total\"],\n",
    "                           y = [int(br_confirmed_june),\n",
    "                                -int(br_recovered_june),\n",
    "                                -int(br_death_june), \n",
    "                                None, \n",
    "                                int(br_confirmed_july), \n",
    "                                -int(br_recovered_july),\n",
    "                                -int(br_death_july), \n",
    "                                None],\n",
    "                           name = \"Brasil\"))\n",
    "\n",
    "# Layout\n",
    "fig.update_layout(title = \"Casos de Covid em Junho e Julho nos EUA e Brasil\",\n",
    "                  waterfallgroupgap = 0.5,)\n",
    "\n",
    "# Gráfico\n",
    "fig.show()"
   ]
  }
 ],
 "metadata": {
  "kernelspec": {
   "display_name": "Python 3",
   "language": "python",
   "name": "python3"
  },
  "language_info": {
   "codemirror_mode": {
    "name": "ipython",
    "version": 3
   },
   "file_extension": ".py",
   "mimetype": "text/x-python",
   "name": "python",
   "nbconvert_exporter": "python",
   "pygments_lexer": "ipython3",
   "version": "3.7.6"
  },
  "papermill": {
   "duration": 53.693134,
   "end_time": "2020-08-15T05:43:15.958021",
   "environment_variables": {},
   "exception": null,
   "input_path": "__notebook__.ipynb",
   "output_path": "__notebook__.ipynb",
   "parameters": {},
   "start_time": "2020-08-15T05:42:22.264887",
   "version": "2.1.0"
  }
 },
 "nbformat": 4,
 "nbformat_minor": 4
}
